{
 "cells": [
  {
   "cell_type": "code",
   "execution_count": null,
   "metadata": {
    "colab": {
     "base_uri": "https://localhost:8080/"
    },
    "id": "0gNCcPhCzk1S",
    "outputId": "b6b8bf60-b6a7-4c21-b7ae-54db50b76cb7"
   },
   "outputs": [
    {
     "name": "stdout",
     "output_type": "stream",
     "text": [
      "Sun Sep 25 13:22:22 2022       \n",
      "+-----------------------------------------------------------------------------+\n",
      "| NVIDIA-SMI 460.32.03    Driver Version: 460.32.03    CUDA Version: 11.2     |\n",
      "|-------------------------------+----------------------+----------------------+\n",
      "| GPU  Name        Persistence-M| Bus-Id        Disp.A | Volatile Uncorr. ECC |\n",
      "| Fan  Temp  Perf  Pwr:Usage/Cap|         Memory-Usage | GPU-Util  Compute M. |\n",
      "|                               |                      |               MIG M. |\n",
      "|===============================+======================+======================|\n",
      "|   0  Tesla T4            Off  | 00000000:00:04.0 Off |                    0 |\n",
      "| N/A   58C    P8    11W /  70W |      0MiB / 15109MiB |      0%      Default |\n",
      "|                               |                      |                  N/A |\n",
      "+-------------------------------+----------------------+----------------------+\n",
      "                                                                               \n",
      "+-----------------------------------------------------------------------------+\n",
      "| Processes:                                                                  |\n",
      "|  GPU   GI   CI        PID   Type   Process name                  GPU Memory |\n",
      "|        ID   ID                                                   Usage      |\n",
      "|=============================================================================|\n",
      "|  No running processes found                                                 |\n",
      "+-----------------------------------------------------------------------------+\n"
     ]
    }
   ],
   "source": [
    "!nvidia-smi"
   ]
  },
  {
   "cell_type": "code",
   "execution_count": null,
   "metadata": {
    "colab": {
     "base_uri": "https://localhost:8080/",
     "height": 1000
    },
    "id": "ZjZntFQgzoXL",
    "outputId": "6b43076c-bc34-4175-bac7-6ff84255c2f1"
   },
   "outputs": [
    {
     "name": "stdout",
     "output_type": "stream",
     "text": [
      "Looking in indexes: https://pypi.org/simple, https://us-python.pkg.dev/colab-wheels/public/simple/\n",
      "Requirement already satisfied: comet-ml in /usr/local/lib/python3.7/dist-packages (3.31.14)\n",
      "Requirement already satisfied: six in /usr/local/lib/python3.7/dist-packages (from comet-ml) (1.15.0)\n",
      "Requirement already satisfied: everett[ini]>=1.0.1 in /usr/local/lib/python3.7/dist-packages (from comet-ml) (3.0.0)\n",
      "Requirement already satisfied: importlib-metadata in /usr/local/lib/python3.7/dist-packages (from comet-ml) (4.12.0)\n",
      "Requirement already satisfied: semantic-version>=2.8.0 in /usr/local/lib/python3.7/dist-packages (from comet-ml) (2.10.0)\n",
      "Requirement already satisfied: sentry-sdk>=1.1.0 in /usr/local/lib/python3.7/dist-packages (from comet-ml) (1.9.0)\n",
      "Requirement already satisfied: dulwich!=0.20.33,>=0.20.6 in /usr/local/lib/python3.7/dist-packages (from comet-ml) (0.20.46)\n",
      "Requirement already satisfied: jsonschema!=3.1.0,>=2.6.0 in /usr/local/lib/python3.7/dist-packages (from comet-ml) (4.3.3)\n",
      "Requirement already satisfied: requests>=2.18.4 in /usr/local/lib/python3.7/dist-packages (from comet-ml) (2.23.0)\n",
      "Requirement already satisfied: wrapt>=1.11.2 in /usr/local/lib/python3.7/dist-packages (from comet-ml) (1.14.1)\n",
      "Requirement already satisfied: websocket-client<1.4.0,>=0.55.0 in /usr/local/lib/python3.7/dist-packages (from comet-ml) (1.3.3)\n",
      "Requirement already satisfied: wurlitzer>=1.0.2 in /usr/local/lib/python3.7/dist-packages (from comet-ml) (3.0.2)\n",
      "Requirement already satisfied: requests-toolbelt>=0.8.0 in /usr/local/lib/python3.7/dist-packages (from comet-ml) (0.9.1)\n",
      "Requirement already satisfied: urllib3>=1.25 in /usr/local/lib/python3.7/dist-packages (from dulwich!=0.20.33,>=0.20.6->comet-ml) (1.25.11)\n",
      "Requirement already satisfied: configobj in /usr/local/lib/python3.7/dist-packages (from everett[ini]>=1.0.1->comet-ml) (5.0.6)\n",
      "Requirement already satisfied: typing-extensions in /usr/local/lib/python3.7/dist-packages (from jsonschema!=3.1.0,>=2.6.0->comet-ml) (4.1.1)\n",
      "Requirement already satisfied: importlib-resources>=1.4.0 in /usr/local/lib/python3.7/dist-packages (from jsonschema!=3.1.0,>=2.6.0->comet-ml) (5.9.0)\n",
      "Requirement already satisfied: attrs>=17.4.0 in /usr/local/lib/python3.7/dist-packages (from jsonschema!=3.1.0,>=2.6.0->comet-ml) (22.1.0)\n",
      "Requirement already satisfied: pyrsistent!=0.17.0,!=0.17.1,!=0.17.2,>=0.14.0 in /usr/local/lib/python3.7/dist-packages (from jsonschema!=3.1.0,>=2.6.0->comet-ml) (0.18.1)\n",
      "Requirement already satisfied: zipp>=3.1.0 in /usr/local/lib/python3.7/dist-packages (from importlib-resources>=1.4.0->jsonschema!=3.1.0,>=2.6.0->comet-ml) (3.8.1)\n",
      "Requirement already satisfied: idna<3,>=2.5 in /usr/local/lib/python3.7/dist-packages (from requests>=2.18.4->comet-ml) (2.10)\n",
      "Requirement already satisfied: chardet<4,>=3.0.2 in /usr/local/lib/python3.7/dist-packages (from requests>=2.18.4->comet-ml) (3.0.4)\n",
      "Requirement already satisfied: certifi>=2017.4.17 in /usr/local/lib/python3.7/dist-packages (from requests>=2.18.4->comet-ml) (2022.6.15)\n",
      "Looking in indexes: https://pypi.org/simple, https://us-python.pkg.dev/colab-wheels/public/simple/\n",
      "Requirement already satisfied: scikit-multilearn in /usr/local/lib/python3.7/dist-packages (0.2.0)\n",
      "Looking in indexes: https://pypi.org/simple, https://us-python.pkg.dev/colab-wheels/public/simple/\n",
      "Collecting transformers\n",
      "  Using cached transformers-4.22.1-py3-none-any.whl (4.9 MB)\n",
      "Requirement already satisfied: tqdm>=4.27 in /usr/local/lib/python3.7/dist-packages (from transformers) (4.64.1)\n",
      "Requirement already satisfied: requests in /usr/local/lib/python3.7/dist-packages (from transformers) (2.23.0)\n",
      "Requirement already satisfied: packaging>=20.0 in /usr/local/lib/python3.7/dist-packages (from transformers) (21.3)\n",
      "Requirement already satisfied: tokenizers!=0.11.3,<0.13,>=0.11.1 in /usr/local/lib/python3.7/dist-packages (from transformers) (0.12.1)\n",
      "Requirement already satisfied: pyyaml>=5.1 in /usr/local/lib/python3.7/dist-packages (from transformers) (6.0)\n",
      "Requirement already satisfied: huggingface-hub<1.0,>=0.9.0 in /usr/local/lib/python3.7/dist-packages (from transformers) (0.9.1)\n",
      "Requirement already satisfied: importlib-metadata in /usr/local/lib/python3.7/dist-packages (from transformers) (4.12.0)\n",
      "Requirement already satisfied: numpy>=1.17 in /usr/local/lib/python3.7/dist-packages (from transformers) (1.21.6)\n",
      "Requirement already satisfied: regex!=2019.12.17 in /usr/local/lib/python3.7/dist-packages (from transformers) (2022.6.2)\n",
      "Requirement already satisfied: filelock in /usr/local/lib/python3.7/dist-packages (from transformers) (3.8.0)\n",
      "Requirement already satisfied: typing-extensions>=3.7.4.3 in /usr/local/lib/python3.7/dist-packages (from huggingface-hub<1.0,>=0.9.0->transformers) (4.1.1)\n",
      "Requirement already satisfied: pyparsing!=3.0.5,>=2.0.2 in /usr/local/lib/python3.7/dist-packages (from packaging>=20.0->transformers) (3.0.9)\n",
      "Requirement already satisfied: zipp>=0.5 in /usr/local/lib/python3.7/dist-packages (from importlib-metadata->transformers) (3.8.1)\n",
      "Requirement already satisfied: idna<3,>=2.5 in /usr/local/lib/python3.7/dist-packages (from requests->transformers) (2.10)\n",
      "Requirement already satisfied: certifi>=2017.4.17 in /usr/local/lib/python3.7/dist-packages (from requests->transformers) (2022.6.15)\n",
      "Requirement already satisfied: urllib3!=1.25.0,!=1.25.1,<1.26,>=1.21.1 in /usr/local/lib/python3.7/dist-packages (from requests->transformers) (1.25.11)\n",
      "Requirement already satisfied: chardet<4,>=3.0.2 in /usr/local/lib/python3.7/dist-packages (from requests->transformers) (3.0.4)\n",
      "Installing collected packages: transformers\n",
      "Successfully installed transformers-4.22.1\n"
     ]
    },
    {
     "data": {
      "application/vnd.colab-display-data+json": {
       "pip_warning": {
        "packages": [
         "transformers"
        ]
       }
      }
     },
     "metadata": {},
     "output_type": "display_data"
    },
    {
     "name": "stdout",
     "output_type": "stream",
     "text": [
      "Looking in indexes: https://pypi.org/simple, https://us-python.pkg.dev/colab-wheels/public/simple/\n",
      "Requirement already satisfied: datasets in /usr/local/lib/python3.7/dist-packages (2.5.1)\n",
      "Requirement already satisfied: requests>=2.19.0 in /usr/local/lib/python3.7/dist-packages (from datasets) (2.23.0)\n",
      "Requirement already satisfied: tqdm>=4.62.1 in /usr/local/lib/python3.7/dist-packages (from datasets) (4.64.1)\n",
      "Requirement already satisfied: fsspec[http]>=2021.11.1 in /usr/local/lib/python3.7/dist-packages (from datasets) (2022.8.2)\n",
      "Requirement already satisfied: responses<0.19 in /usr/local/lib/python3.7/dist-packages (from datasets) (0.18.0)\n",
      "Requirement already satisfied: importlib-metadata in /usr/local/lib/python3.7/dist-packages (from datasets) (4.12.0)\n",
      "Requirement already satisfied: pyarrow>=6.0.0 in /usr/local/lib/python3.7/dist-packages (from datasets) (6.0.1)\n",
      "Requirement already satisfied: numpy>=1.17 in /usr/local/lib/python3.7/dist-packages (from datasets) (1.21.6)\n",
      "Requirement already satisfied: packaging in /usr/local/lib/python3.7/dist-packages (from datasets) (21.3)\n",
      "Requirement already satisfied: aiohttp in /usr/local/lib/python3.7/dist-packages (from datasets) (3.8.1)\n",
      "Requirement already satisfied: multiprocess in /usr/local/lib/python3.7/dist-packages (from datasets) (0.70.13)\n",
      "Requirement already satisfied: xxhash in /usr/local/lib/python3.7/dist-packages (from datasets) (3.0.0)\n",
      "Requirement already satisfied: huggingface-hub<1.0.0,>=0.1.0 in /usr/local/lib/python3.7/dist-packages (from datasets) (0.9.1)\n",
      "Requirement already satisfied: pandas in /usr/local/lib/python3.7/dist-packages (from datasets) (1.3.5)\n",
      "Requirement already satisfied: dill<0.3.6 in /usr/local/lib/python3.7/dist-packages (from datasets) (0.3.5.1)\n",
      "Requirement already satisfied: charset-normalizer<3.0,>=2.0 in /usr/local/lib/python3.7/dist-packages (from aiohttp->datasets) (2.1.1)\n",
      "Requirement already satisfied: aiosignal>=1.1.2 in /usr/local/lib/python3.7/dist-packages (from aiohttp->datasets) (1.2.0)\n",
      "Requirement already satisfied: typing-extensions>=3.7.4 in /usr/local/lib/python3.7/dist-packages (from aiohttp->datasets) (4.1.1)\n",
      "Requirement already satisfied: asynctest==0.13.0 in /usr/local/lib/python3.7/dist-packages (from aiohttp->datasets) (0.13.0)\n",
      "Requirement already satisfied: multidict<7.0,>=4.5 in /usr/local/lib/python3.7/dist-packages (from aiohttp->datasets) (6.0.2)\n",
      "Requirement already satisfied: attrs>=17.3.0 in /usr/local/lib/python3.7/dist-packages (from aiohttp->datasets) (22.1.0)\n",
      "Requirement already satisfied: frozenlist>=1.1.1 in /usr/local/lib/python3.7/dist-packages (from aiohttp->datasets) (1.3.1)\n",
      "Requirement already satisfied: yarl<2.0,>=1.0 in /usr/local/lib/python3.7/dist-packages (from aiohttp->datasets) (1.8.1)\n",
      "Requirement already satisfied: async-timeout<5.0,>=4.0.0a3 in /usr/local/lib/python3.7/dist-packages (from aiohttp->datasets) (4.0.2)\n",
      "Requirement already satisfied: pyyaml>=5.1 in /usr/local/lib/python3.7/dist-packages (from huggingface-hub<1.0.0,>=0.1.0->datasets) (6.0)\n",
      "Requirement already satisfied: filelock in /usr/local/lib/python3.7/dist-packages (from huggingface-hub<1.0.0,>=0.1.0->datasets) (3.8.0)\n",
      "Requirement already satisfied: pyparsing!=3.0.5,>=2.0.2 in /usr/local/lib/python3.7/dist-packages (from packaging->datasets) (3.0.9)\n",
      "Requirement already satisfied: chardet<4,>=3.0.2 in /usr/local/lib/python3.7/dist-packages (from requests>=2.19.0->datasets) (3.0.4)\n",
      "Requirement already satisfied: certifi>=2017.4.17 in /usr/local/lib/python3.7/dist-packages (from requests>=2.19.0->datasets) (2022.6.15)\n",
      "Requirement already satisfied: idna<3,>=2.5 in /usr/local/lib/python3.7/dist-packages (from requests>=2.19.0->datasets) (2.10)\n",
      "Requirement already satisfied: urllib3!=1.25.0,!=1.25.1,<1.26,>=1.21.1 in /usr/local/lib/python3.7/dist-packages (from requests>=2.19.0->datasets) (1.25.11)\n",
      "Requirement already satisfied: zipp>=0.5 in /usr/local/lib/python3.7/dist-packages (from importlib-metadata->datasets) (3.8.1)\n",
      "Requirement already satisfied: python-dateutil>=2.7.3 in /usr/local/lib/python3.7/dist-packages (from pandas->datasets) (2.8.2)\n",
      "Requirement already satisfied: pytz>=2017.3 in /usr/local/lib/python3.7/dist-packages (from pandas->datasets) (2022.2.1)\n",
      "Requirement already satisfied: six>=1.5 in /usr/local/lib/python3.7/dist-packages (from python-dateutil>=2.7.3->pandas->datasets) (1.15.0)\n",
      "Looking in indexes: https://pypi.org/simple, https://us-python.pkg.dev/colab-wheels/public/simple/\n",
      "Requirement already satisfied: nlp in /usr/local/lib/python3.7/dist-packages (0.4.0)\n",
      "Requirement already satisfied: filelock in /usr/local/lib/python3.7/dist-packages (from nlp) (3.8.0)\n",
      "Requirement already satisfied: tqdm>=4.27 in /usr/local/lib/python3.7/dist-packages (from nlp) (4.64.1)\n",
      "Requirement already satisfied: pyarrow>=0.16.0 in /usr/local/lib/python3.7/dist-packages (from nlp) (6.0.1)\n",
      "Requirement already satisfied: xxhash in /usr/local/lib/python3.7/dist-packages (from nlp) (3.0.0)\n",
      "Requirement already satisfied: pandas in /usr/local/lib/python3.7/dist-packages (from nlp) (1.3.5)\n",
      "Requirement already satisfied: dill in /usr/local/lib/python3.7/dist-packages (from nlp) (0.3.5.1)\n",
      "Requirement already satisfied: numpy in /usr/local/lib/python3.7/dist-packages (from nlp) (1.21.6)\n",
      "Requirement already satisfied: requests>=2.19.0 in /usr/local/lib/python3.7/dist-packages (from nlp) (2.23.0)\n",
      "Requirement already satisfied: chardet<4,>=3.0.2 in /usr/local/lib/python3.7/dist-packages (from requests>=2.19.0->nlp) (3.0.4)\n",
      "Requirement already satisfied: urllib3!=1.25.0,!=1.25.1,<1.26,>=1.21.1 in /usr/local/lib/python3.7/dist-packages (from requests>=2.19.0->nlp) (1.25.11)\n",
      "Requirement already satisfied: idna<3,>=2.5 in /usr/local/lib/python3.7/dist-packages (from requests>=2.19.0->nlp) (2.10)\n",
      "Requirement already satisfied: certifi>=2017.4.17 in /usr/local/lib/python3.7/dist-packages (from requests>=2.19.0->nlp) (2022.6.15)\n",
      "Requirement already satisfied: python-dateutil>=2.7.3 in /usr/local/lib/python3.7/dist-packages (from pandas->nlp) (2.8.2)\n",
      "Requirement already satisfied: pytz>=2017.3 in /usr/local/lib/python3.7/dist-packages (from pandas->nlp) (2022.2.1)\n",
      "Requirement already satisfied: six>=1.5 in /usr/local/lib/python3.7/dist-packages (from python-dateutil>=2.7.3->pandas->nlp) (1.15.0)\n"
     ]
    }
   ],
   "source": [
    "!pip install comet-ml\n",
    "!pip install scikit-multilearn\n",
    "!pip install transformers \n",
    "!pip install datasets\n",
    "!pip install nlp\n"
   ]
  },
  {
   "cell_type": "code",
   "execution_count": null,
   "metadata": {
    "colab": {
     "base_uri": "https://localhost:8080/"
    },
    "id": "sq0DWy0X0b2H",
    "outputId": "884fda70-1d31-4244-a1ef-bc12fb7f07ba"
   },
   "outputs": [
    {
     "name": "stdout",
     "output_type": "stream",
     "text": [
      "Archive:  Вологда.zip\n",
      "Вологда/:  mismatching \"local\" filename (╨Т╨╛╨╗╨╛╨│╨┤╨░/),\n",
      "         continuing with \"central\" filename version\n",
      "   creating: Вологда/\n",
      "Вологда/.ipynb_checkpoints/:  mismatching \"local\" filename (╨Т╨╛╨╗╨╛╨│╨┤╨░/.ipynb_checkpoints/),\n",
      "         continuing with \"central\" filename version\n",
      "   creating: Вологда/.ipynb_checkpoints/\n",
      "Вологда/.ipynb_checkpoints/vologda_baseline-checkpoint.ipynb:  mismatching \"local\" filename (╨Т╨╛╨╗╨╛╨│╨┤╨░/.ipynb_checkpoints/vologda_baseline-checkpoint.ipynb),\n",
      "         continuing with \"central\" filename version\n",
      "  inflating: Вологда/.ipynb_checkpoints/vologda_baseline-checkpoint.ipynb  \n",
      "Вологда/sample_solution.csv:  mismatching \"local\" filename (╨Т╨╛╨╗╨╛╨│╨┤╨░/sample_solution.csv),\n",
      "         continuing with \"central\" filename version\n",
      "  inflating: Вологда/sample_solution.csv  \n",
      "Вологда/test_dataset_test.csv:  mismatching \"local\" filename (╨Т╨╛╨╗╨╛╨│╨┤╨░/test_dataset_test.csv),\n",
      "         continuing with \"central\" filename version\n",
      "  inflating: Вологда/test_dataset_test.csv  \n",
      "Вологда/train_dataset_train.csv:  mismatching \"local\" filename (╨Т╨╛╨╗╨╛╨│╨┤╨░/train_dataset_train.csv),\n",
      "         continuing with \"central\" filename version\n",
      "  inflating: Вологда/train_dataset_train.csv  \n",
      "Вологда/vologda_baseline.ipynb:  mismatching \"local\" filename (╨Т╨╛╨╗╨╛╨│╨┤╨░/vologda_baseline.ipynb),\n",
      "         continuing with \"central\" filename version\n",
      "  inflating: Вологда/vologda_baseline.ipynb  \n",
      "Вологда/é«½«ú«ñß¬á∩_«í½áßΓ∞.pdf:  mismatching \"local\" filename (╨Т╨╛╨╗╨╛╨│╨┤╨░/├й┬л┬╜┬л├║┬л├▒├Я┬м├бтИй_┬л├н┬╜├б├Я╬УтИЮ.pdf),\n",
      "         continuing with \"central\" filename version\n",
      "  inflating: Вологда/é«½«ú«ñß¬á∩_«í½áßΓ∞.pdf  \n"
     ]
    }
   ],
   "source": [
    "!unzip Вологда.zip"
   ]
  },
  {
   "cell_type": "code",
   "execution_count": null,
   "metadata": {
    "colab": {
     "base_uri": "https://localhost:8080/"
    },
    "id": "TI_FKNnYzsDY",
    "outputId": "26316144-d94e-4bad-ff88-54b9c2fdfbde"
   },
   "outputs": [
    {
     "name": "stderr",
     "output_type": "stream",
     "text": [
      "COMET INFO: Comet API key is valid\n"
     ]
    },
    {
     "data": {
      "text/plain": [
       "<torch._C.Generator at 0x7f54c411b730>"
      ]
     },
     "execution_count": 1,
     "metadata": {},
     "output_type": "execute_result"
    }
   ],
   "source": [
    "import comet_ml\n",
    "comet_ml.init(project_name='vologda')\n",
    "\n",
    "import torch\n",
    "from pathlib import Path\n",
    "from datasets import load_dataset\n",
    "from transformers import AutoTokenizer,AutoModel, AutoModelForSequenceClassification,AutoModelForTokenClassification,TrainingArguments, Trainer\n",
    "from tqdm.auto import tqdm\n",
    "import json\n",
    "import pandas as pd\n",
    "import numpy as np\n",
    "from sklearn.model_selection import train_test_split\n",
    "from sklearn.multiclass import OneVsRestClassifier\n",
    "from sklearn.metrics import log_loss\n",
    "from sklearn.preprocessing import MultiLabelBinarizer\n",
    "\n",
    "np.random.seed(1337)\n",
    "torch.manual_seed(1337)"
   ]
  },
  {
   "cell_type": "code",
   "execution_count": null,
   "metadata": {
    "id": "w7LB6iNQzv8Q"
   },
   "outputs": [],
   "source": [
    "from transformers import BertForMaskedLM,BertTokenizerFast, pipeline, BatchEncoding,BertForTokenClassification,BertForSequenceClassification\n",
    "from tokenizers import Encoding\n",
    "model_ckpt = \"sberbank-ai/ruRoberta-large\" \n",
    "#model_ckpt = \"sberbank-ai/ruBert-large\" \n",
    "#model_ckpt = \"yandex/RuLeanALBERT\"\n",
    "#model_ckpt = \"cointegrated/rubert-tiny2\"\n",
    "tokenizer = AutoTokenizer.from_pretrained(model_ckpt, problem_type=\"multi_label_classification\")"
   ]
  },
  {
   "cell_type": "code",
   "execution_count": null,
   "metadata": {
    "id": "0S-4CLXk_kjp"
   },
   "outputs": [],
   "source": [
    "df_train = pd.read_csv('Вологда/train_dataset_train.csv')"
   ]
  },
  {
   "cell_type": "code",
   "execution_count": null,
   "metadata": {
    "id": "Spe32e-c0jvb"
   },
   "outputs": [],
   "source": [
    "df_train[\"len_reviews\"] = df_train[\"Отзыв\"].map(len)"
   ]
  },
  {
   "cell_type": "code",
   "execution_count": null,
   "metadata": {
    "colab": {
     "base_uri": "https://localhost:8080/",
     "height": 904
    },
    "id": "3CU7Mi4Q1-7F",
    "outputId": "944d029c-4d17-4ac2-ddb3-c0fcc981f384"
   },
   "outputs": [
    {
     "data": {
      "text/html": [
       "\n",
       "  <div id=\"df-96e5587d-7e46-4c65-9bb6-46e4c21e0d4f\">\n",
       "    <div class=\"colab-df-container\">\n",
       "      <div>\n",
       "<style scoped>\n",
       "    .dataframe tbody tr th:only-of-type {\n",
       "        vertical-align: middle;\n",
       "    }\n",
       "\n",
       "    .dataframe tbody tr th {\n",
       "        vertical-align: top;\n",
       "    }\n",
       "\n",
       "    .dataframe thead th {\n",
       "        text-align: right;\n",
       "    }\n",
       "</style>\n",
       "<table border=\"1\" class=\"dataframe\">\n",
       "  <thead>\n",
       "    <tr style=\"text-align: right;\">\n",
       "      <th></th>\n",
       "      <th>Название книги</th>\n",
       "      <th>Автор</th>\n",
       "      <th>Ссылка на литрес</th>\n",
       "      <th>Рейтинг</th>\n",
       "      <th>Количество оценок</th>\n",
       "      <th>Количество отзывов</th>\n",
       "      <th>Имя читателя</th>\n",
       "      <th>Оценка книги читателем (из 5 баллов)</th>\n",
       "      <th>Отзыв</th>\n",
       "      <th>Лайки на отзыв</th>\n",
       "      <th>Дислайки на отзыв</th>\n",
       "      <th>Релевантность</th>\n",
       "      <th>Таксономия релевантные</th>\n",
       "      <th>Таксономия не релевантные</th>\n",
       "      <th>Длина отзыва</th>\n",
       "      <th>Ценности</th>\n",
       "      <th>len_reviews</th>\n",
       "    </tr>\n",
       "  </thead>\n",
       "  <tbody>\n",
       "    <tr>\n",
       "      <th>0</th>\n",
       "      <td>Зулейха открывает глаза</td>\n",
       "      <td>Гузель Яхина</td>\n",
       "      <td>https://www.litres.ru/guzel-yahina/zuleyha-otk...</td>\n",
       "      <td>4.7</td>\n",
       "      <td>3922</td>\n",
       "      <td>408</td>\n",
       "      <td>Айгуль Ляпина</td>\n",
       "      <td>5.0</td>\n",
       "      <td>Рекомендую книгу в прочтению/прослушиванию. Ес...</td>\n",
       "      <td>0</td>\n",
       "      <td>3</td>\n",
       "      <td>0</td>\n",
       "      <td>0</td>\n",
       "      <td>0</td>\n",
       "      <td>0</td>\n",
       "      <td>0</td>\n",
       "      <td>157</td>\n",
       "    </tr>\n",
       "    <tr>\n",
       "      <th>1</th>\n",
       "      <td>Зулейха открывает глаза</td>\n",
       "      <td>Гузель Яхина</td>\n",
       "      <td>https://www.litres.ru/guzel-yahina/zuleyha-otk...</td>\n",
       "      <td>4.6</td>\n",
       "      <td>24719</td>\n",
       "      <td>2103</td>\n",
       "      <td>Olga T</td>\n",
       "      <td>5.0</td>\n",
       "      <td>Удивительно, что сейчас возникает ТАКАЯ литера...</td>\n",
       "      <td>0</td>\n",
       "      <td>1</td>\n",
       "      <td>0</td>\n",
       "      <td>0</td>\n",
       "      <td>0</td>\n",
       "      <td>0</td>\n",
       "      <td>1</td>\n",
       "      <td>283</td>\n",
       "    </tr>\n",
       "    <tr>\n",
       "      <th>2</th>\n",
       "      <td>Дети мои</td>\n",
       "      <td>Гузель Яхина</td>\n",
       "      <td>https://www.litres.ru/guzel-yahina/deti-moi/</td>\n",
       "      <td>4.4</td>\n",
       "      <td>8032</td>\n",
       "      <td>702</td>\n",
       "      <td>Кирилл Чириков</td>\n",
       "      <td>5.0</td>\n",
       "      <td>Душевно, жизненно, чувственно, проникновенно!!...</td>\n",
       "      <td>0</td>\n",
       "      <td>0</td>\n",
       "      <td>0</td>\n",
       "      <td>1</td>\n",
       "      <td>0</td>\n",
       "      <td>0</td>\n",
       "      <td>1</td>\n",
       "      <td>278</td>\n",
       "    </tr>\n",
       "    <tr>\n",
       "      <th>3</th>\n",
       "      <td>ПОСТ</td>\n",
       "      <td>Дмитрий Глуховский</td>\n",
       "      <td>https://www.litres.ru/dmitriy-gluhovskiy/post/</td>\n",
       "      <td>3.9</td>\n",
       "      <td>430</td>\n",
       "      <td>48</td>\n",
       "      <td>Kimetov Oleg</td>\n",
       "      <td>5.0</td>\n",
       "      <td>Очень понравилось. Причем понравилось больше «...</td>\n",
       "      <td>2</td>\n",
       "      <td>7</td>\n",
       "      <td>0</td>\n",
       "      <td>1</td>\n",
       "      <td>0</td>\n",
       "      <td>0</td>\n",
       "      <td>0</td>\n",
       "      <td>342</td>\n",
       "    </tr>\n",
       "    <tr>\n",
       "      <th>4</th>\n",
       "      <td>ПОСТ</td>\n",
       "      <td>Дмитрий Глуховский</td>\n",
       "      <td>https://www.litres.ru/dmitriy-gluhovskiy/post-...</td>\n",
       "      <td>4.4</td>\n",
       "      <td>832</td>\n",
       "      <td>113</td>\n",
       "      <td>Сергей Никитин</td>\n",
       "      <td>5.0</td>\n",
       "      <td>Круто. Автор и он же чтец – гений. Прослушал н...</td>\n",
       "      <td>1</td>\n",
       "      <td>0</td>\n",
       "      <td>0</td>\n",
       "      <td>0</td>\n",
       "      <td>0</td>\n",
       "      <td>0</td>\n",
       "      <td>0</td>\n",
       "      <td>177</td>\n",
       "    </tr>\n",
       "    <tr>\n",
       "      <th>...</th>\n",
       "      <td>...</td>\n",
       "      <td>...</td>\n",
       "      <td>...</td>\n",
       "      <td>...</td>\n",
       "      <td>...</td>\n",
       "      <td>...</td>\n",
       "      <td>...</td>\n",
       "      <td>...</td>\n",
       "      <td>...</td>\n",
       "      <td>...</td>\n",
       "      <td>...</td>\n",
       "      <td>...</td>\n",
       "      <td>...</td>\n",
       "      <td>...</td>\n",
       "      <td>...</td>\n",
       "      <td>...</td>\n",
       "      <td>...</td>\n",
       "    </tr>\n",
       "    <tr>\n",
       "      <th>4834</th>\n",
       "      <td>Дети мои</td>\n",
       "      <td>Гузель Яхина</td>\n",
       "      <td>https://www.litres.ru/guzel-yahina/deti-moi/</td>\n",
       "      <td>4.4</td>\n",
       "      <td>8032</td>\n",
       "      <td>702</td>\n",
       "      <td>417504557</td>\n",
       "      <td>4.0</td>\n",
       "      <td>Ещё один замечательный роман Гузель Яхиной! По...</td>\n",
       "      <td>0</td>\n",
       "      <td>0</td>\n",
       "      <td>0</td>\n",
       "      <td>0</td>\n",
       "      <td>0</td>\n",
       "      <td>0</td>\n",
       "      <td>0</td>\n",
       "      <td>149</td>\n",
       "    </tr>\n",
       "    <tr>\n",
       "      <th>4835</th>\n",
       "      <td>Авиатор</td>\n",
       "      <td>Евгений Водолазкин</td>\n",
       "      <td>https://www.litres.ru/evgeniy-vodolazkin/aviator/</td>\n",
       "      <td>4.5</td>\n",
       "      <td>3551</td>\n",
       "      <td>260</td>\n",
       "      <td>Viktoria Steinbach</td>\n",
       "      <td>0.0</td>\n",
       "      <td>Как всегда у Водолазкина – увлекательнейший сю...</td>\n",
       "      <td>0</td>\n",
       "      <td>1</td>\n",
       "      <td>1</td>\n",
       "      <td>1</td>\n",
       "      <td>0</td>\n",
       "      <td>0</td>\n",
       "      <td>1</td>\n",
       "      <td>468</td>\n",
       "    </tr>\n",
       "    <tr>\n",
       "      <th>4836</th>\n",
       "      <td>Текст</td>\n",
       "      <td>Дмитрий Глуховский</td>\n",
       "      <td>https://www.litres.ru/dmitriy-gluhovskiy/tekst...</td>\n",
       "      <td>4.5</td>\n",
       "      <td>1923</td>\n",
       "      <td>246</td>\n",
       "      <td>AnVer</td>\n",
       "      <td>5.0</td>\n",
       "      <td>Мрачно, грустно. Давно такого не читала и хват...</td>\n",
       "      <td>1</td>\n",
       "      <td>2</td>\n",
       "      <td>0</td>\n",
       "      <td>0</td>\n",
       "      <td>1</td>\n",
       "      <td>0</td>\n",
       "      <td>0</td>\n",
       "      <td>148</td>\n",
       "    </tr>\n",
       "    <tr>\n",
       "      <th>4837</th>\n",
       "      <td>Зулейха открывает глаза</td>\n",
       "      <td>Гузель Яхина</td>\n",
       "      <td>https://www.litres.ru/guzel-yahina/zuleyha-otk...</td>\n",
       "      <td>4.6</td>\n",
       "      <td>24719</td>\n",
       "      <td>2103</td>\n",
       "      <td>Мария Перешивко</td>\n",
       "      <td>5.0</td>\n",
       "      <td>Очень интересная книга! Как будто очутилась в ...</td>\n",
       "      <td>0</td>\n",
       "      <td>1</td>\n",
       "      <td>0</td>\n",
       "      <td>0</td>\n",
       "      <td>0</td>\n",
       "      <td>0</td>\n",
       "      <td>0</td>\n",
       "      <td>139</td>\n",
       "    </tr>\n",
       "    <tr>\n",
       "      <th>4838</th>\n",
       "      <td>Дни Савелия</td>\n",
       "      <td>Григорий Служитель</td>\n",
       "      <td>https://www.litres.ru/grigoriy-sluzhitel/dni-s...</td>\n",
       "      <td>4.6</td>\n",
       "      <td>1212</td>\n",
       "      <td>143</td>\n",
       "      <td>Christine Komtsian</td>\n",
       "      <td>5.0</td>\n",
       "      <td>Тот редкий случай, когда, ничего особенно не о...</td>\n",
       "      <td>0</td>\n",
       "      <td>0</td>\n",
       "      <td>1</td>\n",
       "      <td>1</td>\n",
       "      <td>0</td>\n",
       "      <td>0</td>\n",
       "      <td>1</td>\n",
       "      <td>609</td>\n",
       "    </tr>\n",
       "  </tbody>\n",
       "</table>\n",
       "<p>4839 rows × 17 columns</p>\n",
       "</div>\n",
       "      <button class=\"colab-df-convert\" onclick=\"convertToInteractive('df-96e5587d-7e46-4c65-9bb6-46e4c21e0d4f')\"\n",
       "              title=\"Convert this dataframe to an interactive table.\"\n",
       "              style=\"display:none;\">\n",
       "        \n",
       "  <svg xmlns=\"http://www.w3.org/2000/svg\" height=\"24px\"viewBox=\"0 0 24 24\"\n",
       "       width=\"24px\">\n",
       "    <path d=\"M0 0h24v24H0V0z\" fill=\"none\"/>\n",
       "    <path d=\"M18.56 5.44l.94 2.06.94-2.06 2.06-.94-2.06-.94-.94-2.06-.94 2.06-2.06.94zm-11 1L8.5 8.5l.94-2.06 2.06-.94-2.06-.94L8.5 2.5l-.94 2.06-2.06.94zm10 10l.94 2.06.94-2.06 2.06-.94-2.06-.94-.94-2.06-.94 2.06-2.06.94z\"/><path d=\"M17.41 7.96l-1.37-1.37c-.4-.4-.92-.59-1.43-.59-.52 0-1.04.2-1.43.59L10.3 9.45l-7.72 7.72c-.78.78-.78 2.05 0 2.83L4 21.41c.39.39.9.59 1.41.59.51 0 1.02-.2 1.41-.59l7.78-7.78 2.81-2.81c.8-.78.8-2.07 0-2.86zM5.41 20L4 18.59l7.72-7.72 1.47 1.35L5.41 20z\"/>\n",
       "  </svg>\n",
       "      </button>\n",
       "      \n",
       "  <style>\n",
       "    .colab-df-container {\n",
       "      display:flex;\n",
       "      flex-wrap:wrap;\n",
       "      gap: 12px;\n",
       "    }\n",
       "\n",
       "    .colab-df-convert {\n",
       "      background-color: #E8F0FE;\n",
       "      border: none;\n",
       "      border-radius: 50%;\n",
       "      cursor: pointer;\n",
       "      display: none;\n",
       "      fill: #1967D2;\n",
       "      height: 32px;\n",
       "      padding: 0 0 0 0;\n",
       "      width: 32px;\n",
       "    }\n",
       "\n",
       "    .colab-df-convert:hover {\n",
       "      background-color: #E2EBFA;\n",
       "      box-shadow: 0px 1px 2px rgba(60, 64, 67, 0.3), 0px 1px 3px 1px rgba(60, 64, 67, 0.15);\n",
       "      fill: #174EA6;\n",
       "    }\n",
       "\n",
       "    [theme=dark] .colab-df-convert {\n",
       "      background-color: #3B4455;\n",
       "      fill: #D2E3FC;\n",
       "    }\n",
       "\n",
       "    [theme=dark] .colab-df-convert:hover {\n",
       "      background-color: #434B5C;\n",
       "      box-shadow: 0px 1px 3px 1px rgba(0, 0, 0, 0.15);\n",
       "      filter: drop-shadow(0px 1px 2px rgba(0, 0, 0, 0.3));\n",
       "      fill: #FFFFFF;\n",
       "    }\n",
       "  </style>\n",
       "\n",
       "      <script>\n",
       "        const buttonEl =\n",
       "          document.querySelector('#df-96e5587d-7e46-4c65-9bb6-46e4c21e0d4f button.colab-df-convert');\n",
       "        buttonEl.style.display =\n",
       "          google.colab.kernel.accessAllowed ? 'block' : 'none';\n",
       "\n",
       "        async function convertToInteractive(key) {\n",
       "          const element = document.querySelector('#df-96e5587d-7e46-4c65-9bb6-46e4c21e0d4f');\n",
       "          const dataTable =\n",
       "            await google.colab.kernel.invokeFunction('convertToInteractive',\n",
       "                                                     [key], {});\n",
       "          if (!dataTable) return;\n",
       "\n",
       "          const docLinkHtml = 'Like what you see? Visit the ' +\n",
       "            '<a target=\"_blank\" href=https://colab.research.google.com/notebooks/data_table.ipynb>data table notebook</a>'\n",
       "            + ' to learn more about interactive tables.';\n",
       "          element.innerHTML = '';\n",
       "          dataTable['output_type'] = 'display_data';\n",
       "          await google.colab.output.renderOutput(dataTable, element);\n",
       "          const docLink = document.createElement('div');\n",
       "          docLink.innerHTML = docLinkHtml;\n",
       "          element.appendChild(docLink);\n",
       "        }\n",
       "      </script>\n",
       "    </div>\n",
       "  </div>\n",
       "  "
      ],
      "text/plain": [
       "               Название книги               Автор  \\\n",
       "0     Зулейха открывает глаза        Гузель Яхина   \n",
       "1     Зулейха открывает глаза        Гузель Яхина   \n",
       "2                    Дети мои        Гузель Яхина   \n",
       "3                        ПОСТ  Дмитрий Глуховский   \n",
       "4                        ПОСТ  Дмитрий Глуховский   \n",
       "...                       ...                 ...   \n",
       "4834                 Дети мои        Гузель Яхина   \n",
       "4835                  Авиатор  Евгений Водолазкин   \n",
       "4836                    Текст  Дмитрий Глуховский   \n",
       "4837  Зулейха открывает глаза        Гузель Яхина   \n",
       "4838              Дни Савелия  Григорий Служитель   \n",
       "\n",
       "                                       Ссылка на литрес  Рейтинг  \\\n",
       "0     https://www.litres.ru/guzel-yahina/zuleyha-otk...      4.7   \n",
       "1     https://www.litres.ru/guzel-yahina/zuleyha-otk...      4.6   \n",
       "2          https://www.litres.ru/guzel-yahina/deti-moi/      4.4   \n",
       "3        https://www.litres.ru/dmitriy-gluhovskiy/post/      3.9   \n",
       "4     https://www.litres.ru/dmitriy-gluhovskiy/post-...      4.4   \n",
       "...                                                 ...      ...   \n",
       "4834       https://www.litres.ru/guzel-yahina/deti-moi/      4.4   \n",
       "4835  https://www.litres.ru/evgeniy-vodolazkin/aviator/      4.5   \n",
       "4836  https://www.litres.ru/dmitriy-gluhovskiy/tekst...      4.5   \n",
       "4837  https://www.litres.ru/guzel-yahina/zuleyha-otk...      4.6   \n",
       "4838  https://www.litres.ru/grigoriy-sluzhitel/dni-s...      4.6   \n",
       "\n",
       "      Количество оценок  Количество отзывов        Имя читателя  \\\n",
       "0                  3922                 408       Айгуль Ляпина   \n",
       "1                 24719                2103              Olga T   \n",
       "2                  8032                 702      Кирилл Чириков   \n",
       "3                   430                  48        Kimetov Oleg   \n",
       "4                   832                 113      Сергей Никитин   \n",
       "...                 ...                 ...                 ...   \n",
       "4834               8032                 702           417504557   \n",
       "4835               3551                 260  Viktoria Steinbach   \n",
       "4836               1923                 246               AnVer   \n",
       "4837              24719                2103     Мария Перешивко   \n",
       "4838               1212                 143  Christine Komtsian   \n",
       "\n",
       "      Оценка книги читателем (из 5 баллов)  \\\n",
       "0                                      5.0   \n",
       "1                                      5.0   \n",
       "2                                      5.0   \n",
       "3                                      5.0   \n",
       "4                                      5.0   \n",
       "...                                    ...   \n",
       "4834                                   4.0   \n",
       "4835                                   0.0   \n",
       "4836                                   5.0   \n",
       "4837                                   5.0   \n",
       "4838                                   5.0   \n",
       "\n",
       "                                                  Отзыв  Лайки на отзыв  \\\n",
       "0     Рекомендую книгу в прочтению/прослушиванию. Ес...               0   \n",
       "1     Удивительно, что сейчас возникает ТАКАЯ литера...               0   \n",
       "2     Душевно, жизненно, чувственно, проникновенно!!...               0   \n",
       "3     Очень понравилось. Причем понравилось больше «...               2   \n",
       "4     Круто. Автор и он же чтец – гений. Прослушал н...               1   \n",
       "...                                                 ...             ...   \n",
       "4834  Ещё один замечательный роман Гузель Яхиной! По...               0   \n",
       "4835  Как всегда у Водолазкина – увлекательнейший сю...               0   \n",
       "4836  Мрачно, грустно. Давно такого не читала и хват...               1   \n",
       "4837  Очень интересная книга! Как будто очутилась в ...               0   \n",
       "4838  Тот редкий случай, когда, ничего особенно не о...               0   \n",
       "\n",
       "      Дислайки на отзыв  Релевантность  Таксономия релевантные  \\\n",
       "0                     3              0                       0   \n",
       "1                     1              0                       0   \n",
       "2                     0              0                       1   \n",
       "3                     7              0                       1   \n",
       "4                     0              0                       0   \n",
       "...                 ...            ...                     ...   \n",
       "4834                  0              0                       0   \n",
       "4835                  1              1                       1   \n",
       "4836                  2              0                       0   \n",
       "4837                  1              0                       0   \n",
       "4838                  0              1                       1   \n",
       "\n",
       "      Таксономия не релевантные  Длина отзыва  Ценности  len_reviews  \n",
       "0                             0             0         0          157  \n",
       "1                             0             0         1          283  \n",
       "2                             0             0         1          278  \n",
       "3                             0             0         0          342  \n",
       "4                             0             0         0          177  \n",
       "...                         ...           ...       ...          ...  \n",
       "4834                          0             0         0          149  \n",
       "4835                          0             0         1          468  \n",
       "4836                          1             0         0          148  \n",
       "4837                          0             0         0          139  \n",
       "4838                          0             0         1          609  \n",
       "\n",
       "[4839 rows x 17 columns]"
      ]
     },
     "execution_count": 5,
     "metadata": {},
     "output_type": "execute_result"
    }
   ],
   "source": [
    "train = df_train.copy().drop(columns = 'RecordNo',inplace = False)\n",
    "train.fillna(0)"
   ]
  },
  {
   "cell_type": "code",
   "execution_count": null,
   "metadata": {
    "id": "5Z9NwDc71Swi"
   },
   "outputs": [],
   "source": [
    "cat_features = ['Название книги','Автор','Имя читателя','Рейтинг']\n",
    "text_features = ['Отзыв']\n",
    "target_columns = ['Релевантность',\n",
    "       'Таксономия релевантные', 'Таксономия не релевантные',\n",
    "       'Длина отзыва', 'Ценности']\n",
    "\n",
    "train_labels = train.copy()[target_columns].values\n",
    "train_data  = train.copy().drop(columns = target_columns,inplace = False)\n",
    "train_data[cat_features] = train_data[cat_features].astype(str)\n",
    "train_data[text_features] = train_data[text_features].astype(str)"
   ]
  },
  {
   "cell_type": "code",
   "execution_count": null,
   "metadata": {
    "id": "TRoSk1qC1sBE"
   },
   "outputs": [],
   "source": [
    "def create_text_from_cols(df):\n",
    "  texts = pd.DataFrame()\n",
    "  texts['text'] = [(\"Автор: \" + str(t['Автор']) + ' ' + \"Имя читателя: \" + str(t['Имя читателя']) + ' ' +  'Отзыв: ' + str(t['Отзыв']) + ' Рейтинг: ' + str(t['Рейтинг']) + ' Лайки: ' +str(t['Лайки на отзыв']) \n",
    "                    + ' Дислайки:' + str(t['Дислайки на отзыв']) ) for index,t in df.iterrows()]\n",
    "  return texts"
   ]
  },
  {
   "cell_type": "code",
   "execution_count": null,
   "metadata": {
    "id": "XuglnoNiU0El"
   },
   "outputs": [],
   "source": [
    "from skmultilearn.model_selection import iterative_train_test_split"
   ]
  },
  {
   "cell_type": "code",
   "execution_count": null,
   "metadata": {
    "id": "inLO4jil2yXA"
   },
   "outputs": [],
   "source": [
    "texts = create_text_from_cols(train)\n",
    "X_train, y_train, X_val, y_val = iterative_train_test_split((texts['text']).values.reshape(-1,1), np.array(train_labels), test_size=0.2)\n",
    "test = pd.read_csv('Вологда/test_dataset_test.csv').fillna(0)\n",
    "test_texts = create_text_from_cols(test)"
   ]
  },
  {
   "cell_type": "code",
   "execution_count": null,
   "metadata": {
    "id": "esXmAOOF5guR"
   },
   "outputs": [],
   "source": [
    "train_encodings = tokenizer([x[0] for x in X_train], truncation=True, padding=True,max_length=256)\n",
    "val_encodings = tokenizer([x[0] for x in X_val], truncation=True, padding=True,max_length=256)\n",
    "test_encodings = tokenizer(list(test_texts['text']), truncation=True, padding=True,max_length=256)\n"
   ]
  },
  {
   "cell_type": "code",
   "execution_count": null,
   "metadata": {
    "id": "g_SluiHO6wg0"
   },
   "outputs": [],
   "source": [
    "import torch\n",
    "\n",
    "class HHDataset(torch.utils.data.Dataset):\n",
    "    def __init__(self, encodings, labels):\n",
    "        self.encodings = encodings\n",
    "        self.labels = np.array(labels,dtype = float)\n",
    "\n",
    "    def __getitem__(self, idx):\n",
    "        item = {key: torch.tensor(val[idx]) for key, val in self.encodings.items()}\n",
    "        item['labels'] = torch.tensor(self.labels[idx]).float()\n",
    "        return item\n",
    "\n",
    "    def __len__(self):\n",
    "        return len(self.labels)\n",
    "\n",
    "\n",
    "\n",
    "\n",
    "train_dataset = HHDataset(train_encodings, y_train)\n",
    "val_dataset = HHDataset(val_encodings, y_val)\n",
    "test_dataset = HHDataset(test_encodings, np.zeros((len(test_texts),5)))\n",
    "#small_dataset = HHDataset(small_enc, y_val[:100,:])"
   ]
  },
  {
   "cell_type": "code",
   "execution_count": null,
   "metadata": {
    "colab": {
     "base_uri": "https://localhost:8080/"
    },
    "id": "xs2Tw34L54ZE",
    "outputId": "1fa1c666-470f-41d9-c3a5-42a225636ce5"
   },
   "outputs": [
    {
     "name": "stderr",
     "output_type": "stream",
     "text": [
      "Some weights of the model checkpoint at sberbank-ai/ruBert-large were not used when initializing BertForSequenceClassification: ['cls.predictions.transform.dense.weight', 'cls.predictions.transform.LayerNorm.bias', 'cls.predictions.transform.dense.bias', 'cls.predictions.bias', 'cls.seq_relationship.bias', 'cls.predictions.decoder.bias', 'cls.predictions.transform.LayerNorm.weight', 'cls.predictions.decoder.weight', 'cls.seq_relationship.weight']\n",
      "- This IS expected if you are initializing BertForSequenceClassification from the checkpoint of a model trained on another task or with another architecture (e.g. initializing a BertForSequenceClassification model from a BertForPreTraining model).\n",
      "- This IS NOT expected if you are initializing BertForSequenceClassification from the checkpoint of a model that you expect to be exactly identical (initializing a BertForSequenceClassification model from a BertForSequenceClassification model).\n",
      "Some weights of BertForSequenceClassification were not initialized from the model checkpoint at sberbank-ai/ruBert-large and are newly initialized: ['classifier.bias', 'classifier.weight']\n",
      "You should probably TRAIN this model on a down-stream task to be able to use it for predictions and inference.\n"
     ]
    }
   ],
   "source": [
    "model = AutoModelForSequenceClassification.from_pretrained(model_ckpt, num_labels=5, problem_type=\"multi_label_classification\").to('cuda')"
   ]
  },
  {
   "cell_type": "code",
   "execution_count": null,
   "metadata": {
    "id": "2f_jiVf27Pmm"
   },
   "outputs": [],
   "source": [
    "args = TrainingArguments(\".\", num_train_epochs=4,report_to='comet_ml',learning_rate = 1e-5,per_device_eval_batch_size=4,evaluation_strategy=\"steps\",logging_strategy=\"steps\",logging_steps = 400,save_steps = 2000, per_device_train_batch_size=4)\n",
    "trainer = Trainer(model=model, args=args ,train_dataset=train_dataset, eval_dataset=val_dataset, tokenizer=tokenizer)\n"
   ]
  },
  {
   "cell_type": "code",
   "execution_count": null,
   "metadata": {
    "colab": {
     "base_uri": "https://localhost:8080/",
     "height": 877
    },
    "id": "FZRNLbnA6AOD",
    "outputId": "c5a21bb7-5c8d-4d58-e5a5-b5f797ed2c73"
   },
   "outputs": [
    {
     "name": "stderr",
     "output_type": "stream",
     "text": [
      "/usr/local/lib/python3.7/dist-packages/transformers/optimization.py:310: FutureWarning: This implementation of AdamW is deprecated and will be removed in a future version. Use the PyTorch implementation torch.optim.AdamW instead, or set `no_deprecation_warning=True` to disable this warning\n",
      "  FutureWarning,\n",
      "***** Running training *****\n",
      "  Num examples = 3871\n",
      "  Num Epochs = 4\n",
      "  Instantaneous batch size per device = 4\n",
      "  Total train batch size (w. parallel, distributed & accumulation) = 4\n",
      "  Gradient Accumulation steps = 1\n",
      "  Total optimization steps = 3872\n",
      "COMET WARNING: As you are running in a Jupyter environment, you will need to call `experiment.end()` when finished to ensure all metrics and code are logged before exiting.\n",
      "COMET ERROR: Failed to calculate active processors count. Fall back to default CPU count 1\n",
      "COMET INFO: Couldn't find a Git repository in '/content' nor in any parent directory. You can override where Comet is looking for a Git Patch by setting the configuration `COMET_GIT_DIRECTORY`\n",
      "COMET INFO: Experiment is live on comet.com https://www.comet.com/kglnsk/vologda/a949a2ca57eb43ad9a6176c5bda0b45e\n",
      "\n",
      "Automatic Comet.ml online logging enabled\n",
      "You're using a BertTokenizerFast tokenizer. Please note that with a fast tokenizer, using the `__call__` method is faster than using a method to encode the text followed by a call to the `pad` method to get a padded encoding.\n"
     ]
    },
    {
     "data": {
      "text/html": [
       "\n",
       "    <div>\n",
       "      \n",
       "      <progress value='2183' max='3872' style='width:300px; height:20px; vertical-align: middle;'></progress>\n",
       "      [2183/3872 31:34 < 24:26, 1.15 it/s, Epoch 2.25/4]\n",
       "    </div>\n",
       "    <table border=\"1\" class=\"dataframe\">\n",
       "  <thead>\n",
       " <tr style=\"text-align: left;\">\n",
       "      <th>Step</th>\n",
       "      <th>Training Loss</th>\n",
       "      <th>Validation Loss</th>\n",
       "    </tr>\n",
       "  </thead>\n",
       "  <tbody>\n",
       "    <tr>\n",
       "      <td>400</td>\n",
       "      <td>0.518000</td>\n",
       "      <td>0.438896</td>\n",
       "    </tr>\n",
       "    <tr>\n",
       "      <td>800</td>\n",
       "      <td>0.409400</td>\n",
       "      <td>0.360428</td>\n",
       "    </tr>\n",
       "    <tr>\n",
       "      <td>1200</td>\n",
       "      <td>0.322900</td>\n",
       "      <td>0.300724</td>\n",
       "    </tr>\n",
       "    <tr>\n",
       "      <td>1600</td>\n",
       "      <td>0.276400</td>\n",
       "      <td>0.251110</td>\n",
       "    </tr>\n",
       "    <tr>\n",
       "      <td>2000</td>\n",
       "      <td>0.233900</td>\n",
       "      <td>0.253503</td>\n",
       "    </tr>\n",
       "  </tbody>\n",
       "</table><p>"
      ],
      "text/plain": [
       "<IPython.core.display.HTML object>"
      ]
     },
     "metadata": {},
     "output_type": "display_data"
    },
    {
     "name": "stderr",
     "output_type": "stream",
     "text": [
      "***** Running Evaluation *****\n",
      "  Num examples = 968\n",
      "  Batch size = 4\n",
      "***** Running Evaluation *****\n",
      "  Num examples = 968\n",
      "  Batch size = 4\n",
      "***** Running Evaluation *****\n",
      "  Num examples = 968\n",
      "  Batch size = 4\n",
      "***** Running Evaluation *****\n",
      "  Num examples = 968\n",
      "  Batch size = 4\n",
      "***** Running Evaluation *****\n",
      "  Num examples = 968\n",
      "  Batch size = 4\n",
      "Saving model checkpoint to ./checkpoint-2000\n",
      "Configuration saved in ./checkpoint-2000/config.json\n",
      "Model weights saved in ./checkpoint-2000/pytorch_model.bin\n",
      "tokenizer config file saved in ./checkpoint-2000/tokenizer_config.json\n",
      "Special tokens file saved in ./checkpoint-2000/special_tokens_map.json\n"
     ]
    }
   ],
   "source": [
    "trainer.train()"
   ]
  },
  {
   "cell_type": "code",
   "execution_count": null,
   "metadata": {
    "id": "Bjpx_UqL8QIX"
   },
   "outputs": [],
   "source": [
    "preds = trainer.predict(test_dataset)"
   ]
  },
  {
   "cell_type": "code",
   "execution_count": null,
   "metadata": {
    "id": "ukOEZcqrJ2j_"
   },
   "outputs": [],
   "source": [
    "probs = torch.sigmoid(torch.Tensor(preds.predictions))\n",
    "pd.DataFrame(probs.numpy()).to_csv('roberta-preds.csv')"
   ]
  },
  {
   "cell_type": "code",
   "execution_count": null,
   "metadata": {
    "id": "64VAgS1UStVr"
   },
   "outputs": [],
   "source": [
    "answers = 1*((probs.numpy()>0.4))"
   ]
  },
  {
   "cell_type": "code",
   "execution_count": null,
   "metadata": {
    "id": "1IXxYJIWS7oa"
   },
   "outputs": [],
   "source": [
    "df_submission = pd.read_csv('Вологда/sample_solution.csv')"
   ]
  },
  {
   "cell_type": "code",
   "execution_count": null,
   "metadata": {
    "id": "QTnnYZAXTG_7"
   },
   "outputs": [],
   "source": [
    "df_submission.iloc[:,1:] = answers\n",
    "df_submission.to_csv('answers-roberta.csv',index = False)"
   ]
  }
 ],
 "metadata": {
  "accelerator": "GPU",
  "colab": {
   "background_execution": "on",
   "collapsed_sections": [],
   "provenance": []
  },
  "kernelspec": {
   "display_name": "Python 3",
   "language": "python",
   "name": "python3"
  },
  "language_info": {
   "codemirror_mode": {
    "name": "ipython",
    "version": 3
   },
   "file_extension": ".py",
   "mimetype": "text/x-python",
   "name": "python",
   "nbconvert_exporter": "python",
   "pygments_lexer": "ipython3",
   "version": "3.7.10"
  }
 },
 "nbformat": 4,
 "nbformat_minor": 1
}
