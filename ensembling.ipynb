{
 "cells": [
  {
   "cell_type": "code",
   "execution_count": 6,
   "id": "1e844aa0",
   "metadata": {},
   "outputs": [],
   "source": [
    "import numpy as np\n",
    "import pandas as pd "
   ]
  },
  {
   "cell_type": "code",
   "execution_count": 7,
   "id": "301dc90e",
   "metadata": {},
   "outputs": [],
   "source": [
    "preds_bert = pd.read_csv('sbert-3-preds.csv').iloc[:,1:].values\n",
    "preds_roberta = pd.read_csv('roberta-preds.csv').iloc[:,1:].values"
   ]
  },
  {
   "cell_type": "code",
   "execution_count": 8,
   "id": "ae90d084",
   "metadata": {},
   "outputs": [],
   "source": [
    "total_preds = (preds_bert + preds_roberta)/2.0\n",
    "answers = 1*(total_preds>=0.4)"
   ]
  },
  {
   "cell_type": "code",
   "execution_count": 9,
   "id": "5d7f7d9d",
   "metadata": {},
   "outputs": [],
   "source": [
    "df_submission = pd.read_csv('Вологда/sample_solution.csv')\n",
    "df_submission.iloc[:,1:] = answers\n",
    "df_submission.to_csv('answers-sum-0.4.csv',index = False)"
   ]
  }
 ],
 "metadata": {
  "kernelspec": {
   "display_name": "Python 3",
   "language": "python",
   "name": "python3"
  },
  "language_info": {
   "codemirror_mode": {
    "name": "ipython",
    "version": 3
   },
   "file_extension": ".py",
   "mimetype": "text/x-python",
   "name": "python",
   "nbconvert_exporter": "python",
   "pygments_lexer": "ipython3",
   "version": "3.7.10"
  }
 },
 "nbformat": 4,
 "nbformat_minor": 5
}
